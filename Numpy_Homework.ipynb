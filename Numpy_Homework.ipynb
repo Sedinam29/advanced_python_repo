{
 "cells": [
  {
   "cell_type": "markdown",
   "metadata": {
    "id": "KdERlTpFuL5V"
   },
   "source": [
    "# Exercises"
   ]
  },
  {
   "cell_type": "markdown",
   "metadata": {
    "id": "to-gsrQyuL5Z"
   },
   "source": [
    "### #1 - Calculate the BMI (body mass index) on the two lists below using NDArrays..."
   ]
  },
  {
   "cell_type": "code",
   "execution_count": 6,
   "metadata": {
    "id": "iZlf9DzeuL5a",
    "scrolled": true
   },
   "outputs": [
    {
     "name": "stdout",
     "output_type": "stream",
     "text": [
      "The Body Mass Index on the lists are: \n",
      "[16.86620458 17.87755102 18.82562984 19.71450617 20.54794521 21.32943755\n",
      " 22.06222222]\n"
     ]
    }
   ],
   "source": [
    "# !pip install numpy\n",
    "import numpy as np\n",
    "# formula = weight / (height**2) * 730\n",
    "# height = [69, 70, 71, 72, 73, 74, 75]\n",
    "# weight = [110, 120, 130, 140, 150, 160, 170]\n",
    "\n",
    "# have two lists : height and weight\n",
    "# convert list into NDArrays [np.array]\n",
    "# height = height**2\n",
    "# bmi = weight / (height)* 730\n",
    "# create a function that takes a height and weight to calc bmi\n",
    "# Step 1\n",
    "def calculate_bmi(weight, height):\n",
    "# convert list into numpy arrays\n",
    "    weight = np.array(weight)\n",
    "    height = np.array(height)\n",
    "# calculate bmi\n",
    "    bmi =  weight / (height**2)* 730\n",
    "    return f'The Body Mass Index on the lists are: \\n{bmi}'\n",
    "\n",
    "# if the list below then\n",
    "height = [69, 70, 71, 72, 73, 74, 75]\n",
    "weight = [110, 120, 130, 140, 150, 160, 170]\n",
    "\n",
    "bmi_value =  calculate_bmi(weight, height)\n",
    "print(bmi_value)"
   ]
  },
  {
   "cell_type": "markdown",
   "metadata": {
    "id": "RSsT8w8ouL5b"
   },
   "source": [
    "### #2 - Create a function that will take in two parameters and will create a random matrix based off of those parameters. Extra: Have additional parameters taken in that allow the user to choose the shape and data type of the matrix."
   ]
  },
  {
   "cell_type": "code",
   "execution_count": 14,
   "metadata": {
    "id": "ygFvj0aeuL5b"
   },
   "outputs": [
    {
     "name": "stdout",
     "output_type": "stream",
     "text": [
      "Random matrix created:\n",
      " [[0 0 0 0]\n",
      " [0 0 0 0]\n",
      " [0 0 0 0]\n",
      " [0 0 0 0]]\n"
     ]
    }
   ],
   "source": [
    "\n",
    "# takes in two parameters\n",
    "# ---parameters(matrix needs rows and columns).. rows and columns[two parameters]\n",
    "# creates a random matrix based off of those parameters \n",
    "# ---matrix can be (4x4)\n",
    "# extra: additional parameters taking in to allow user to choose the shape and data type of the matrix\n",
    "# ---- extra two will be shape, data_type?\n",
    "# what additional parameters?\n",
    "# ---shape defaults to none, datatype defaults to float\n",
    "# returns random matrix of given shape and data_type\n",
    "# note: astype(): method in numpy used to change\n",
    "# the datatype of NDArray from one dtype to another\n",
    "#  It creates a copy of the array, and converts the type of the copy to the specified data type\n",
    "\n",
    "# SOLUTION\n",
    "def create_random_matrix(row, column, data_type, shape=None):\n",
    "#     setting matrix shape such that if not specified then default\n",
    "    if shape is not None:\n",
    "        matrix_shape = shape\n",
    "    else:\n",
    "        matrix_shape = (row, column)\n",
    "#     creates random matrix with user specified shape and datatype\n",
    "    return np.random.rand(row, column).astype(data_type)\n",
    "\n",
    "# USER test\n",
    "random_matrix = create_random_matrix(4,4,int) #'int' user desired datatype..\n",
    "\n",
    "print(f'Random matrix created:\\n {random_matrix}')"
   ]
  },
  {
   "cell_type": "markdown",
   "metadata": {
    "id": "e5mP1UX9uL5c"
   },
   "source": [
    "### #3 - Extra: Open and load the data in the two text files that have the Boston Red Sox hitting data for the past seasons. Compare the difference in the two years by putting the data into an NDArray and running a differencial operation on it. The column to look for will be SLG.\n",
    "\n",
    "Your output should display which year (either 2017 or 2018) was a better year based on SLG"
   ]
  },
  {
   "cell_type": "code",
   "execution_count": 16,
   "metadata": {
    "id": "iAExC-SjuL5c"
   },
   "outputs": [],
   "source": [
    "import csv\n",
    "import numpy as np\n",
    "# running a differential operation [r = arr10 - arr5]\n",
    "# data = redsox_hitting_2017.txt ...2018\n",
    "# Pseudocode: \n",
    "#1. define a func that opens data [redsox 2017 and 2018]\n",
    "# 2. load the data for both years\n",
    "# 3. get SLG column from array.. for clear representation of data\n",
    "# 4. calculate the average SLG for both years\n",
    "# 5. compare average... return the year with the highest average...\n"
   ]
  },
  {
   "cell_type": "code",
   "execution_count": 30,
   "metadata": {
    "id": "P8Rwr8lmuL5e",
    "scrolled": true
   },
   "outputs": [
    {
     "name": "stdout",
     "output_type": "stream",
     "text": [
      "\n",
      "\n",
      "The SLG column for 2017:\n",
      "[0.404 0.443 0.392 0.403 0.482 0.424 0.402 0.459 0.429 0.354 0.387 0.333\n",
      " 0.539 0.243 0.262 0.354 0.342 0.339 0.328 0.306 0.222 0.2   1.   ]\n",
      "\n",
      "\n",
      "The SLG column for 2018:\n",
      " [0.279 0.433 0.388 0.522 0.433 0.465 0.403 0.64  0.629 0.411 0.283 0.328\n",
      " 0.395 0.507 0.311 0.415 0.389 0.261 0.091 0.167]\n",
      "\n",
      "\n",
      "The mean SLG value for redsox in 2017:\n",
      " 0.393347829580307\n",
      "The mean SLG value for redsox in 2018:\n",
      " 0.38749998807907104\n",
      "\n",
      "\n",
      "With an average SLG of 0.393347829580307, 2017 was a better year for redsox\n"
     ]
    }
   ],
   "source": [
    "FIELDS = ['Rk', 'Pos', 'Name', 'Age', 'G', 'PA', 'AB', 'R', 'H', '2B', '3B', 'HR', 'RBI', 'SB', 'CS', \n",
    "          'BB', 'SO', 'BA', 'OBP', 'SLG', 'OPS', 'OPS+', 'TB', 'GDP', 'HBP', 'SH', 'SF', 'IBB']\n",
    "\n",
    "DATATYPES = [('rk', 'i'), ('pos', '|S25'), ('name', '|S25'), ('age', 'i'), ('g', 'i'), ('pa', 'i'), ('ab', 'i'),\n",
    "                ('r', 'i'), ('h', 'i'), ('2b', 'i'), ('3b', 'i'), ('hr', 'i'), ('rbi', 'i'), ('sb', 'i'), ('cs', 'i'),\n",
    "                ('bb', 'i'), ('so', 'i'), ('ba', 'f'), ('obp', 'f'), ('slg', 'f'), ('ops', 'f'), ('opsp', 'i'),\n",
    "                ('tb', 'i'), ('gdp', 'i'), ('hbp', 'i'), ('sh', 'i'), ('sf', 'i'), ('ibb', 'i')]\n",
    "\n",
    "def load_data(filename, d = ','):\n",
    "    data = np.genfromtxt(filename,delimiter = d, skip_header = 1,\n",
    "                        usecols = np.arange(0,24),invalid_raise=False,\n",
    "                        names = FIELDS, dtype = DATATYPES)\n",
    "    return data\n",
    "#Use this function to actually open the data inside of a NDArray\n",
    "\n",
    "bos_data_2017 = load_data('../Data_analytics assignment/redsox_2017_hitting.txt')\n",
    "bos_data_2017\n",
    "\n",
    "print('\\n')\n",
    "\n",
    "bos_data_2018 = load_data('../Data_analytics assignment/redsox_2018_hitting.txt')\n",
    "bos_data_2018\n",
    "\n",
    "# using the index of the SLG column.. get data\n",
    "slg_2017 = bos_data_2017['SLG']\n",
    "print(f'The SLG column for 2017:\\n{slg_2017}')\n",
    "\n",
    "print('\\n')\n",
    "slg_2018 = bos_data_2018['SLG']\n",
    "print(f'The SLG column for 2018:\\n {slg_2018}')\n",
    "\n",
    "print('\\n')\n",
    "# calculate the mean for both 2017 and 2018\n",
    "mean_slg_2017 = np.mean(slg_2017)\n",
    "print(f'The mean SLG value for redsox in 2017:\\n {mean_slg_2017}')\n",
    "\n",
    "mean_slg_2018 = np.mean(slg_2018)\n",
    "print(f'The mean SLG value for redsox in 2018:\\n {mean_slg_2018}')\n",
    "print('\\n')\n",
    "# running a differential operation\n",
    "# using <,> = in this;\n",
    "if mean_slg_2017 > mean_slg_2018:\n",
    "    print(f'With an average SLG of {mean_slg_2017}, 2017 was a better year for redsox')\n",
    "elif mean_slg_2017 < mean_slg_2018:\n",
    "    print(f'With an average SLG of {mean_slg_2018}, 2018 looks like a better year for redsox')\n",
    "else:\n",
    "    print('Both years were equal based on SLG')"
   ]
  },
  {
   "cell_type": "code",
   "execution_count": null,
   "metadata": {},
   "outputs": [],
   "source": []
  }
 ],
 "metadata": {
  "colab": {
   "name": "Copy of Data_Science_Day_1_Exercises-Day1- Homework.ipynb",
   "provenance": []
  },
  "kernelspec": {
   "display_name": "Python 3 (ipykernel)",
   "language": "python",
   "name": "python3"
  },
  "language_info": {
   "codemirror_mode": {
    "name": "ipython",
    "version": 3
   },
   "file_extension": ".py",
   "mimetype": "text/x-python",
   "name": "python",
   "nbconvert_exporter": "python",
   "pygments_lexer": "ipython3",
   "version": "3.11.7"
  }
 },
 "nbformat": 4,
 "nbformat_minor": 1
}
